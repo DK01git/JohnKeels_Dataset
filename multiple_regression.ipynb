{
 "cells": [
  {
   "cell_type": "code",
   "execution_count": 25,
   "metadata": {},
   "outputs": [],
   "source": [
    "#import libraries to use linear regression and plotting\n",
    "import numpy as np\n",
    "import matplotlib.pyplot as plt\n",
    "import pandas as pd\n",
    "from sklearn.linear_model import LinearRegression\n",
    "from sklearn.metrics import mean_squared_error\n",
    "from sklearn.model_selection import train_test_split\n",
    "from sklearn.preprocessing import PolynomialFeatures, StandardScaler\n"
   ]
  },
  {
   "cell_type": "code",
   "execution_count": 3,
   "metadata": {},
   "outputs": [],
   "source": [
    "df = pd.read_excel('Redemption-Data.xlsx')"
   ]
  },
  {
   "cell_type": "code",
   "execution_count": 4,
   "metadata": {},
   "outputs": [
    {
     "data": {
      "text/plain": [
       "(227, 5)"
      ]
     },
     "execution_count": 4,
     "metadata": {},
     "output_type": "execute_result"
    }
   ],
   "source": [
    "df.shape"
   ]
  },
  {
   "cell_type": "code",
   "execution_count": 5,
   "metadata": {},
   "outputs": [
    {
     "name": "stdout",
     "output_type": "stream",
     "text": [
      "<class 'pandas.core.frame.DataFrame'>\n",
      "RangeIndex: 227 entries, 0 to 226\n",
      "Data columns (total 5 columns):\n",
      " #   Column               Non-Null Count  Dtype         \n",
      "---  ------               --------------  -----         \n",
      " 0   Date                 227 non-null    datetime64[ns]\n",
      " 1   Target-Group         227 non-null    object        \n",
      " 2   Distance Rank        227 non-null    object        \n",
      " 3   Order Amount         227 non-null    int64         \n",
      " 4   Redemption Category  227 non-null    int64         \n",
      "dtypes: datetime64[ns](1), int64(2), object(2)\n",
      "memory usage: 9.0+ KB\n"
     ]
    }
   ],
   "source": [
    "df.info()"
   ]
  },
  {
   "cell_type": "code",
   "execution_count": 6,
   "metadata": {},
   "outputs": [
    {
     "data": {
      "text/html": [
       "<div>\n",
       "<style scoped>\n",
       "    .dataframe tbody tr th:only-of-type {\n",
       "        vertical-align: middle;\n",
       "    }\n",
       "\n",
       "    .dataframe tbody tr th {\n",
       "        vertical-align: top;\n",
       "    }\n",
       "\n",
       "    .dataframe thead th {\n",
       "        text-align: right;\n",
       "    }\n",
       "</style>\n",
       "<table border=\"1\" class=\"dataframe\">\n",
       "  <thead>\n",
       "    <tr style=\"text-align: right;\">\n",
       "      <th></th>\n",
       "      <th>Date</th>\n",
       "      <th>Order Amount</th>\n",
       "      <th>Redemption Category</th>\n",
       "    </tr>\n",
       "  </thead>\n",
       "  <tbody>\n",
       "    <tr>\n",
       "      <th>count</th>\n",
       "      <td>227</td>\n",
       "      <td>227.000000</td>\n",
       "      <td>227.000000</td>\n",
       "    </tr>\n",
       "    <tr>\n",
       "      <th>mean</th>\n",
       "      <td>2023-12-10 22:31:11.365638656</td>\n",
       "      <td>4959.414097</td>\n",
       "      <td>2.400881</td>\n",
       "    </tr>\n",
       "    <tr>\n",
       "      <th>min</th>\n",
       "      <td>2023-12-04 00:00:00</td>\n",
       "      <td>1500.000000</td>\n",
       "      <td>1.000000</td>\n",
       "    </tr>\n",
       "    <tr>\n",
       "      <th>25%</th>\n",
       "      <td>2023-12-08 00:00:00</td>\n",
       "      <td>2154.500000</td>\n",
       "      <td>2.000000</td>\n",
       "    </tr>\n",
       "    <tr>\n",
       "      <th>50%</th>\n",
       "      <td>2023-12-10 00:00:00</td>\n",
       "      <td>5565.000000</td>\n",
       "      <td>3.000000</td>\n",
       "    </tr>\n",
       "    <tr>\n",
       "      <th>75%</th>\n",
       "      <td>2023-12-15 00:00:00</td>\n",
       "      <td>6842.000000</td>\n",
       "      <td>3.000000</td>\n",
       "    </tr>\n",
       "    <tr>\n",
       "      <th>max</th>\n",
       "      <td>2023-12-17 00:00:00</td>\n",
       "      <td>8984.000000</td>\n",
       "      <td>3.000000</td>\n",
       "    </tr>\n",
       "    <tr>\n",
       "      <th>std</th>\n",
       "      <td>NaN</td>\n",
       "      <td>2368.613482</td>\n",
       "      <td>0.699304</td>\n",
       "    </tr>\n",
       "  </tbody>\n",
       "</table>\n",
       "</div>"
      ],
      "text/plain": [
       "                                Date  Order Amount  Redemption Category\n",
       "count                            227    227.000000           227.000000\n",
       "mean   2023-12-10 22:31:11.365638656   4959.414097             2.400881\n",
       "min              2023-12-04 00:00:00   1500.000000             1.000000\n",
       "25%              2023-12-08 00:00:00   2154.500000             2.000000\n",
       "50%              2023-12-10 00:00:00   5565.000000             3.000000\n",
       "75%              2023-12-15 00:00:00   6842.000000             3.000000\n",
       "max              2023-12-17 00:00:00   8984.000000             3.000000\n",
       "std                              NaN   2368.613482             0.699304"
      ]
     },
     "execution_count": 6,
     "metadata": {},
     "output_type": "execute_result"
    }
   ],
   "source": [
    "df.describe()"
   ]
  },
  {
   "cell_type": "code",
   "execution_count": 7,
   "metadata": {},
   "outputs": [
    {
     "data": {
      "text/html": [
       "<div>\n",
       "<style scoped>\n",
       "    .dataframe tbody tr th:only-of-type {\n",
       "        vertical-align: middle;\n",
       "    }\n",
       "\n",
       "    .dataframe tbody tr th {\n",
       "        vertical-align: top;\n",
       "    }\n",
       "\n",
       "    .dataframe thead th {\n",
       "        text-align: right;\n",
       "    }\n",
       "</style>\n",
       "<table border=\"1\" class=\"dataframe\">\n",
       "  <thead>\n",
       "    <tr style=\"text-align: right;\">\n",
       "      <th></th>\n",
       "      <th>Date</th>\n",
       "      <th>Target-Group</th>\n",
       "      <th>Distance Rank</th>\n",
       "      <th>Order Amount</th>\n",
       "      <th>Redemption Category</th>\n",
       "    </tr>\n",
       "  </thead>\n",
       "  <tbody>\n",
       "    <tr>\n",
       "      <th>0</th>\n",
       "      <td>2023-12-04</td>\n",
       "      <td>T2</td>\n",
       "      <td>D1</td>\n",
       "      <td>8621</td>\n",
       "      <td>3</td>\n",
       "    </tr>\n",
       "    <tr>\n",
       "      <th>1</th>\n",
       "      <td>2023-12-04</td>\n",
       "      <td>T2</td>\n",
       "      <td>D1</td>\n",
       "      <td>7528</td>\n",
       "      <td>3</td>\n",
       "    </tr>\n",
       "    <tr>\n",
       "      <th>2</th>\n",
       "      <td>2023-12-04</td>\n",
       "      <td>T2</td>\n",
       "      <td>D1</td>\n",
       "      <td>5707</td>\n",
       "      <td>3</td>\n",
       "    </tr>\n",
       "    <tr>\n",
       "      <th>3</th>\n",
       "      <td>2023-12-04</td>\n",
       "      <td>T1</td>\n",
       "      <td>D2</td>\n",
       "      <td>1759</td>\n",
       "      <td>2</td>\n",
       "    </tr>\n",
       "    <tr>\n",
       "      <th>4</th>\n",
       "      <td>2023-12-04</td>\n",
       "      <td>T2</td>\n",
       "      <td>D3</td>\n",
       "      <td>2006</td>\n",
       "      <td>2</td>\n",
       "    </tr>\n",
       "  </tbody>\n",
       "</table>\n",
       "</div>"
      ],
      "text/plain": [
       "        Date Target-Group Distance Rank  Order Amount  Redemption Category\n",
       "0 2023-12-04           T2            D1          8621                    3\n",
       "1 2023-12-04           T2            D1          7528                    3\n",
       "2 2023-12-04           T2            D1          5707                    3\n",
       "3 2023-12-04           T1            D2          1759                    2\n",
       "4 2023-12-04           T2            D3          2006                    2"
      ]
     },
     "execution_count": 7,
     "metadata": {},
     "output_type": "execute_result"
    }
   ],
   "source": [
    "df.head()"
   ]
  },
  {
   "cell_type": "code",
   "execution_count": 8,
   "metadata": {},
   "outputs": [],
   "source": [
    "#Replace Target-Group column to numeric values as T1 = 1, T2=2\n",
    "df['Target-Group'] = df['Target-Group'].replace(['T1','T2'],[1,2])"
   ]
  },
  {
   "cell_type": "code",
   "execution_count": 9,
   "metadata": {},
   "outputs": [],
   "source": [
    "#replace Distance Rank column to numeric values as D1=1, D2=2, D3=3\n",
    "df['Distance Rank'] = df['Distance Rank'].replace(['D1','D2','D3'],[1,2,3])"
   ]
  },
  {
   "cell_type": "code",
   "execution_count": 10,
   "metadata": {},
   "outputs": [
    {
     "name": "stdout",
     "output_type": "stream",
     "text": [
      "<class 'pandas.core.frame.DataFrame'>\n",
      "RangeIndex: 227 entries, 0 to 226\n",
      "Data columns (total 5 columns):\n",
      " #   Column               Non-Null Count  Dtype         \n",
      "---  ------               --------------  -----         \n",
      " 0   Date                 227 non-null    datetime64[ns]\n",
      " 1   Target-Group         227 non-null    int64         \n",
      " 2   Distance Rank        227 non-null    int64         \n",
      " 3   Order Amount         227 non-null    int64         \n",
      " 4   Redemption Category  227 non-null    int64         \n",
      "dtypes: datetime64[ns](1), int64(4)\n",
      "memory usage: 9.0 KB\n"
     ]
    }
   ],
   "source": [
    "df.info()"
   ]
  },
  {
   "cell_type": "code",
   "execution_count": 11,
   "metadata": {},
   "outputs": [],
   "source": [
    "#rename columns\n",
    "df.rename(columns={'Target-Group':'Target_Group','Distance Rank':'Distance_Rank', 'Redemption Category': 'Redemption_Category', 'Order Amount': 'Order_Amount'},inplace=True)"
   ]
  },
  {
   "cell_type": "code",
   "execution_count": 12,
   "metadata": {},
   "outputs": [],
   "source": [
    "X = df[['Distance_Rank','Target_Group', 'Redemption_Category']]\n",
    "y = df['Order_Amount']"
   ]
  },
  {
   "cell_type": "code",
   "execution_count": 13,
   "metadata": {},
   "outputs": [
    {
     "data": {
      "image/png": "[encoded data removed]",
      "text/plain": [
       "<Figure size 1000x600 with 2 Axes>"
      ]
     },
     "metadata": {},
     "output_type": "display_data"
    }
   ],
   "source": [
    "#plot the counts of Distance_Rank and Target_Group\n",
    "plt.figure(figsize=(10,6))\n",
    "plt.subplot(1,2,1)\n",
    "plt.title('Distance Rank')\n",
    "df['Distance_Rank'].value_counts().plot(kind='bar')\n",
    "plt.subplot(1,2,2)\n",
    "plt.title('Target Group')\n",
    "df['Target_Group'].value_counts().plot(kind='bar')\n",
    "plt.tight_layout()\n"
   ]
  },
  {
   "cell_type": "code",
   "execution_count": 14,
   "metadata": {},
   "outputs": [],
   "source": [
    "#split the data into training and testing sets\n",
    "X_train, X_test, y_train, y_test = train_test_split(X, y, test_size=0.2, random_state=42)"
   ]
  },
  {
   "cell_type": "code",
   "execution_count": 27,
   "metadata": {},
   "outputs": [],
   "source": [
    "# Create a pipeline that first scales the data, then creates polynomial features, then fits a linear regression model\n",
    "\n",
    "from sklearn.pipeline import make_pipeline\n",
    "lr = make_pipeline(StandardScaler(), PolynomialFeatures(degree=2), LinearRegression())\n"
   ]
  },
  {
   "cell_type": "code",
   "execution_count": 15,
   "metadata": {},
   "outputs": [],
   "source": [
    "#train the model\n",
    "#lr = LinearRegression()"
   ]
  },
  {
   "cell_type": "code",
   "execution_count": 28,
   "metadata": {},
   "outputs": [
    {
     "data": {
      "text/html": [
       "<style>#sk-container-id-2 {color: black;}#sk-container-id-2 pre{padding: 0;}#sk-container-id-2 div.sk-toggleable {background-color: white;}#sk-container-id-2 label.sk-toggleable__label {cursor: pointer;display: block;width: 100%;margin-bottom: 0;padding: 0.3em;box-sizing: border-box;text-align: center;}#sk-container-id-2 label.sk-toggleable__label-arrow:before {content: \"▸\";float: left;margin-right: 0.25em;color: #696969;}#sk-container-id-2 label.sk-toggleable__label-arrow:hover:before {color: black;}#sk-container-id-2 div.sk-estimator:hover label.sk-toggleable__label-arrow:before {color: black;}#sk-container-id-2 div.sk-toggleable__content {max-height: 0;max-width: 0;overflow: hidden;text-align: left;background-color: #f0f8ff;}#sk-container-id-2 div.sk-toggleable__content pre {margin: 0.2em;color: black;border-radius: 0.25em;background-color: #f0f8ff;}#sk-container-id-2 input.sk-toggleable__control:checked~div.sk-toggleable__content {max-height: 200px;max-width: 100%;overflow: auto;}#sk-container-id-2 input.sk-toggleable__control:checked~label.sk-toggleable__label-arrow:before {content: \"▾\";}#sk-container-id-2 div.sk-estimator input.sk-toggleable__control:checked~label.sk-toggleable__label {background-color: #d4ebff;}#sk-container-id-2 div.sk-label input.sk-toggleable__control:checked~label.sk-toggleable__label {background-color: #d4ebff;}#sk-container-id-2 input.sk-hidden--visually {border: 0;clip: rect(1px 1px 1px 1px);clip: rect(1px, 1px, 1px, 1px);height: 1px;margin: -1px;overflow: hidden;padding: 0;position: absolute;width: 1px;}#sk-container-id-2 div.sk-estimator {font-family: monospace;background-color: #f0f8ff;border: 1px dotted black;border-radius: 0.25em;box-sizing: border-box;margin-bottom: 0.5em;}#sk-container-id-2 div.sk-estimator:hover {background-color: #d4ebff;}#sk-container-id-2 div.sk-parallel-item::after {content: \"\";width: 100%;border-bottom: 1px solid gray;flex-grow: 1;}#sk-container-id-2 div.sk-label:hover label.sk-toggleable__label {background-color: #d4ebff;}#sk-container-id-2 div.sk-serial::before {content: \"\";position: absolute;border-left: 1px solid gray;box-sizing: border-box;top: 0;bottom: 0;left: 50%;z-index: 0;}#sk-container-id-2 div.sk-serial {display: flex;flex-direction: column;align-items: center;background-color: white;padding-right: 0.2em;padding-left: 0.2em;position: relative;}#sk-container-id-2 div.sk-item {position: relative;z-index: 1;}#sk-container-id-2 div.sk-parallel {display: flex;align-items: stretch;justify-content: center;background-color: white;position: relative;}#sk-container-id-2 div.sk-item::before, #sk-container-id-2 div.sk-parallel-item::before {content: \"\";position: absolute;border-left: 1px solid gray;box-sizing: border-box;top: 0;bottom: 0;left: 50%;z-index: -1;}#sk-container-id-2 div.sk-parallel-item {display: flex;flex-direction: column;z-index: 1;position: relative;background-color: white;}#sk-container-id-2 div.sk-parallel-item:first-child::after {align-self: flex-end;width: 50%;}#sk-container-id-2 div.sk-parallel-item:last-child::after {align-self: flex-start;width: 50%;}#sk-container-id-2 div.sk-parallel-item:only-child::after {width: 0;}#sk-container-id-2 div.sk-dashed-wrapped {border: 1px dashed gray;margin: 0 0.4em 0.5em 0.4em;box-sizing: border-box;padding-bottom: 0.4em;background-color: white;}#sk-container-id-2 div.sk-label label {font-family: monospace;font-weight: bold;display: inline-block;line-height: 1.2em;}#sk-container-id-2 div.sk-label-container {text-align: center;}#sk-container-id-2 div.sk-container {/* jupyter's `normalize.less` sets `[hidden] { display: none; }` but bootstrap.min.css set `[hidden] { display: none !important; }` so we also need the `!important` here to be able to override the default hidden behavior on the sphinx rendered scikit-learn.org. See: https://github.com/scikit-learn/scikit-learn/issues/21755 */display: inline-block !important;position: relative;}#sk-container-id-2 div.sk-text-repr-fallback {display: none;}</style><div id=\"sk-container-id-2\" class=\"sk-top-container\"><div class=\"sk-text-repr-fallback\"><pre>Pipeline(steps=[(&#x27;standardscaler&#x27;, StandardScaler()),\n",
       "                (&#x27;polynomialfeatures&#x27;, PolynomialFeatures()),\n",
       "                (&#x27;linearregression&#x27;, LinearRegression())])</pre><b>In a Jupyter environment, please rerun this cell to show the HTML representation or trust the notebook. <br />On GitHub, the HTML representation is unable to render, please try loading this page with nbviewer.org.</b></div><div class=\"sk-container\" hidden><div class=\"sk-item sk-dashed-wrapped\"><div class=\"sk-label-container\"><div class=\"sk-label sk-toggleable\"><input class=\"sk-toggleable__control sk-hidden--visually\" id=\"sk-estimator-id-2\" type=\"checkbox\" ><label for=\"sk-estimator-id-2\" class=\"sk-toggleable__label sk-toggleable__label-arrow\">Pipeline</label><div class=\"sk-toggleable__content\"><pre>Pipeline(steps=[(&#x27;standardscaler&#x27;, StandardScaler()),\n",
       "                (&#x27;polynomialfeatures&#x27;, PolynomialFeatures()),\n",
       "                (&#x27;linearregression&#x27;, LinearRegression())])</pre></div></div></div><div class=\"sk-serial\"><div class=\"sk-item\"><div class=\"sk-estimator sk-toggleable\"><input class=\"sk-toggleable__control sk-hidden--visually\" id=\"sk-estimator-id-3\" type=\"checkbox\" ><label for=\"sk-estimator-id-3\" class=\"sk-toggleable__label sk-toggleable__label-arrow\">StandardScaler</label><div class=\"sk-toggleable__content\"><pre>StandardScaler()</pre></div></div></div><div class=\"sk-item\"><div class=\"sk-estimator sk-toggleable\"><input class=\"sk-toggleable__control sk-hidden--visually\" id=\"sk-estimator-id-4\" type=\"checkbox\" ><label for=\"sk-estimator-id-4\" class=\"sk-toggleable__label sk-toggleable__label-arrow\">PolynomialFeatures</label><div class=\"sk-toggleable__content\"><pre>PolynomialFeatures()</pre></div></div></div><div class=\"sk-item\"><div class=\"sk-estimator sk-toggleable\"><input class=\"sk-toggleable__control sk-hidden--visually\" id=\"sk-estimator-id-5\" type=\"checkbox\" ><label for=\"sk-estimator-id-5\" class=\"sk-toggleable__label sk-toggleable__label-arrow\">LinearRegression</label><div class=\"sk-toggleable__content\"><pre>LinearRegression()</pre></div></div></div></div></div></div></div>"
      ],
      "text/plain": [
       "Pipeline(steps=[('standardscaler', StandardScaler()),\n",
       "                ('polynomialfeatures', PolynomialFeatures()),\n",
       "                ('linearregression', LinearRegression())])"
      ]
     },
     "execution_count": 28,
     "metadata": {},
     "output_type": "execute_result"
    }
   ],
   "source": [
    "#fit the model\n",
    "lr.fit(X_train, y_train)"
   ]
  },
  {
   "cell_type": "code",
   "execution_count": 30,
   "metadata": {},
   "outputs": [
    {
     "data": {
      "text/plain": [
       "-116747844386873.75"
      ]
     },
     "execution_count": 30,
     "metadata": {},
     "output_type": "execute_result"
    }
   ],
   "source": [
    "c = lr.named_steps['linearregression'].intercept_\n",
    "c"
   ]
  },
  {
   "cell_type": "code",
   "execution_count": 32,
   "metadata": {},
   "outputs": [
    {
     "data": {
      "text/plain": [
       "array([ 0.00000000e+00,  4.27193936e+01, -6.45261962e+12,  2.84509191e+03,\n",
       "       -8.73238043e+01,  3.64809649e+01,  6.24873451e+01,  1.16747844e+14,\n",
       "        1.10161308e+01,  1.86954824e+03])"
      ]
     },
     "execution_count": 32,
     "metadata": {},
     "output_type": "execute_result"
    }
   ],
   "source": [
    "cf = lr.named_steps['linearregression'].coef_\n",
    "cf"
   ]
  },
  {
   "cell_type": "code",
   "execution_count": 35,
   "metadata": {},
   "outputs": [
    {
     "data": {
      "text/plain": [
       "array([6940.609375, 2146.234375, 4859.171875, 6834.953125, 2331.34375 ,\n",
       "       6824.53125 , 7115.40625 , 1911.40625 , 4859.171875, 6940.609375,\n",
       "       6834.953125, 6834.953125, 6940.609375, 6940.609375, 2146.234375,\n",
       "       6834.953125, 7115.40625 , 6562.0625  , 7115.40625 , 1854.15625 ,\n",
       "       6834.953125, 7038.109375, 2264.375   , 6940.609375, 2008.8125  ,\n",
       "       6940.609375, 4967.25    , 6824.53125 , 1911.40625 , 6940.609375,\n",
       "       1911.40625 , 1854.15625 , 2264.375   , 6940.609375, 7115.40625 ,\n",
       "       2008.8125  , 4700.78125 , 5260.1875  , 1854.15625 , 6940.609375,\n",
       "       7038.109375, 2264.375   , 2146.234375, 1911.40625 , 2331.34375 ,\n",
       "       4700.78125 ])"
      ]
     },
     "execution_count": 35,
     "metadata": {},
     "output_type": "execute_result"
    }
   ],
   "source": [
    "#predict the test data\n",
    "y_pred_test = lr.predict(X_test)\n",
    "y_pred_test"
   ]
  },
  {
   "cell_type": "code",
   "execution_count": 38,
   "metadata": {},
   "outputs": [
    {
     "data": {
      "text/plain": [
       "0.9219436743809908"
      ]
     },
     "execution_count": 38,
     "metadata": {},
     "output_type": "execute_result"
    }
   ],
   "source": [
    "#calculate the r2 score on test data\n",
    "from sklearn.metrics import r2_score\n",
    "r2_test = r2_score(y_test, y_pred_test)   \n"
   ]
  },
  {
   "cell_type": "code",
   "execution_count": 39,
   "metadata": {},
   "outputs": [
    {
     "data": {
      "text/plain": [
       "array([7038.109375, 6940.609375, 7115.40625 , 6834.953125, 6562.0625  ,\n",
       "       1911.40625 , 6834.953125, 7038.109375, 7115.40625 , 2331.34375 ,\n",
       "       6824.53125 , 1854.15625 , 2008.8125  , 2146.234375, 2331.34375 ,\n",
       "       1854.15625 , 4906.      , 6940.609375, 2264.375   , 6824.53125 ,\n",
       "       5301.03125 , 2146.234375, 6834.953125, 6824.53125 , 1911.40625 ,\n",
       "       2146.234375, 6562.0625  , 2008.8125  , 6824.53125 , 4859.171875,\n",
       "       6562.0625  , 1911.40625 , 2264.375   , 6940.609375, 7115.40625 ,\n",
       "       7038.109375, 6940.609375, 6562.0625  , 2146.234375, 6940.609375,\n",
       "       6834.953125, 7115.40625 , 6562.0625  , 4700.78125 , 7115.40625 ,\n",
       "       6562.0625  , 5301.03125 , 2331.34375 , 6562.0625  , 7038.109375,\n",
       "       6940.609375, 7038.109375, 6562.0625  , 6562.0625  , 2331.34375 ,\n",
       "       2008.8125  , 6834.953125, 2331.34375 , 1854.15625 , 1854.15625 ,\n",
       "       6940.609375, 1911.40625 , 4859.171875, 5301.03125 , 6940.609375,\n",
       "       6834.953125, 7115.40625 , 6940.609375, 6562.0625  , 6824.53125 ,\n",
       "       4906.      , 7038.109375, 4906.      , 1854.15625 , 6562.0625  ,\n",
       "       4906.      , 7038.109375, 5301.03125 , 7038.109375, 7038.109375,\n",
       "       4967.25    , 1911.40625 , 7038.109375, 6562.0625  , 2146.234375,\n",
       "       6834.953125, 2264.375   , 6562.0625  , 7115.40625 , 6824.53125 ,\n",
       "       7038.109375, 6940.609375, 6824.53125 , 1854.15625 , 2331.34375 ,\n",
       "       7038.109375, 4967.25    , 7115.40625 , 2008.8125  , 2264.375   ,\n",
       "       1911.40625 , 2331.34375 , 4906.      , 2146.234375, 7115.40625 ,\n",
       "       7038.109375, 5301.03125 , 1854.15625 , 2331.34375 , 2264.375   ,\n",
       "       1854.15625 , 1854.15625 , 7115.40625 , 1854.15625 , 7115.40625 ,\n",
       "       6824.53125 , 6940.609375, 7038.109375, 6940.609375, 6562.0625  ,\n",
       "       7115.40625 , 6940.609375, 6834.953125, 6834.953125, 4906.      ,\n",
       "       2264.375   , 6834.953125, 1911.40625 , 6834.953125, 1911.40625 ,\n",
       "       4906.      , 2146.234375, 1854.15625 , 2264.375   , 4859.171875,\n",
       "       6824.53125 , 2146.234375, 7115.40625 , 6940.609375, 7038.109375,\n",
       "       1911.40625 , 7115.40625 , 5260.1875  , 1854.15625 , 6834.953125,\n",
       "       2146.234375, 6834.953125, 6562.0625  , 1854.15625 , 7115.40625 ,\n",
       "       1854.15625 , 1911.40625 , 4700.78125 , 1854.15625 , 2146.234375,\n",
       "       2264.375   , 2264.375   , 7115.40625 , 6562.0625  , 7115.40625 ,\n",
       "       6562.0625  , 6834.953125, 6940.609375, 7115.40625 , 2264.375   ,\n",
       "       1854.15625 , 6940.609375, 2008.8125  , 7115.40625 , 6824.53125 ,\n",
       "       6834.953125, 1854.15625 , 6562.0625  , 5260.1875  , 2331.34375 ,\n",
       "       5260.1875  , 6940.609375, 2008.8125  , 7038.109375, 2264.375   ,\n",
       "       6940.609375])"
      ]
     },
     "execution_count": 39,
     "metadata": {},
     "output_type": "execute_result"
    }
   ],
   "source": [
    "#predict the train data\n",
    "y_pred_train = lr.predict(X_train)\n",
    "y_pred_train"
   ]
  },
  {
   "cell_type": "code",
   "execution_count": 40,
   "metadata": {},
   "outputs": [
    {
     "data": {
      "text/plain": [
       "0.8921739580019075"
      ]
     },
     "execution_count": 40,
     "metadata": {},
     "output_type": "execute_result"
    }
   ],
   "source": [
    "#calculate the r2 score on train data\n",
    "r2_train = r2_score(y_train, y_pred_train)"
   ]
  },
  {
   "cell_type": "code",
   "execution_count": 41,
   "metadata": {},
   "outputs": [
    {
     "data": {
      "image/png": "[encoded data removed]",
      "text/plain": [
       "<Figure size 640x480 with 1 Axes>"
      ]
     },
     "metadata": {},
     "output_type": "display_data"
    }
   ],
   "source": [
    "#check the performance of the model\n",
    "plt.scatter(y_train, y_pred_train)\n",
    "plt.xlabel('Actual Order Amount')\n",
    "plt.ylabel('Predicted Order Amount')\n",
    "plt.title('Actual vs Predicted Order Amount (Training set)')\n",
    "plt.show()"
   ]
  },
  {
   "cell_type": "code",
   "execution_count": 42,
   "metadata": {},
   "outputs": [
    {
     "data": {
      "text/plain": [
       "0.8921739580019075"
      ]
     },
     "execution_count": 42,
     "metadata": {},
     "output_type": "execute_result"
    }
   ],
   "source": [
    "#check r2 score\n",
    "from sklearn.metrics import r2_score\n",
    "r2_score(y_train, y_pred_train)"
   ]
  },
  {
   "cell_type": "code",
   "execution_count": 44,
   "metadata": {},
   "outputs": [
    {
     "data": {
      "text/plain": [
       "array([6940.609375, 2146.234375, 4859.171875, 6834.953125, 2331.34375 ,\n",
       "       6824.53125 , 7115.40625 , 1911.40625 , 4859.171875, 6940.609375,\n",
       "       6834.953125, 6834.953125, 6940.609375, 6940.609375, 2146.234375,\n",
       "       6834.953125, 7115.40625 , 6562.0625  , 7115.40625 , 1854.15625 ,\n",
       "       6834.953125, 7038.109375, 2264.375   , 6940.609375, 2008.8125  ,\n",
       "       6940.609375, 4967.25    , 6824.53125 , 1911.40625 , 6940.609375,\n",
       "       1911.40625 , 1854.15625 , 2264.375   , 6940.609375, 7115.40625 ,\n",
       "       2008.8125  , 4700.78125 , 5260.1875  , 1854.15625 , 6940.609375,\n",
       "       7038.109375, 2264.375   , 2146.234375, 1911.40625 , 2331.34375 ,\n",
       "       4700.78125 ])"
      ]
     },
     "execution_count": 44,
     "metadata": {},
     "output_type": "execute_result"
    }
   ],
   "source": [
    "#lets use testing data to check the performance of the model\n",
    "y_pred_test = lr.predict(X_test)\n",
    "y_pred_test"
   ]
  },
  {
   "cell_type": "code",
   "execution_count": 45,
   "metadata": {},
   "outputs": [
    {
     "data": {
      "image/png": "[encoded data removed]",
      "text/plain": [
       "<Figure size 640x480 with 1 Axes>"
      ]
     },
     "metadata": {},
     "output_type": "display_data"
    }
   ],
   "source": [
    "#plot the actual vs predicted values of testing data\n",
    "plt.scatter(y_test, y_pred_test)\n",
    "plt.xlabel('Actual Order Amount')\n",
    "plt.ylabel('Predicted Order Amount')\n",
    "plt.title('Actual vs Predicted Order Amount (Testing set)') \n",
    "plt.show()"
   ]
  },
  {
   "cell_type": "code",
   "execution_count": 46,
   "metadata": {},
   "outputs": [
    {
     "data": {
      "text/plain": [
       "0.9219436743809908"
      ]
     },
     "execution_count": 46,
     "metadata": {},
     "output_type": "execute_result"
    }
   ],
   "source": [
    "r2_score(y_test, y_pred_test)"
   ]
  },
  {
   "cell_type": "code",
   "execution_count": null,
   "metadata": {},
   "outputs": [],
   "source": []
  },
  {
   "cell_type": "code",
   "execution_count": null,
   "metadata": {},
   "outputs": [],
   "source": []
  },
  {
   "cell_type": "code",
   "execution_count": null,
   "metadata": {},
   "outputs": [],
   "source": []
  },
  {
   "cell_type": "code",
   "execution_count": null,
   "metadata": {},
   "outputs": [],
   "source": []
  },
  {
   "cell_type": "code",
   "execution_count": null,
   "metadata": {},
   "outputs": [],
   "source": []
  },
  {
   "cell_type": "code",
   "execution_count": null,
   "metadata": {},
   "outputs": [],
   "source": []
  },
  {
   "cell_type": "code",
   "execution_count": null,
   "metadata": {},
   "outputs": [],
   "source": []
  },
  {
   "cell_type": "code",
   "execution_count": null,
   "metadata": {},
   "outputs": [],
   "source": []
  }
 ],
 "metadata": {
  "kernelspec": {
   "display_name": "Python 3",
   "language": "python",
   "name": "python3"
  },
  "language_info": {
   "codemirror_mode": {
    "name": "ipython",
    "version": 3
   },
   "file_extension": ".py",
   "mimetype": "text/x-python",
   "name": "python",
   "nbconvert_exporter": "python",
   "pygments_lexer": "ipython3",
   "version": "3.12.0"
  }
 },
 "nbformat": 4,
 "nbformat_minor": 2
}
